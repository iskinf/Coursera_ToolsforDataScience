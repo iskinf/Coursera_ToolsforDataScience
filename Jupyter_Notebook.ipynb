{
 "cells": [
  {
   "cell_type": "markdown",
   "metadata": {},
   "source": [
    "<center>\n",
    "    <img src=\"https://s3-api.us-geo.objectstorage.softlayer.net/cf-courses-data/CognitiveClass/Logos/organization_logo/organization_logo.png\" width=\"300\" alt=\"cognitiveclass.ai logo\"  />\n",
    "</center>\n"
   ]
  },
  {
   "cell_type": "markdown",
   "metadata": {},
   "source": [
    "#### Add your code below following the instructions given in the course\n"
   ]
  },
  {
   "cell_type": "markdown",
   "metadata": {},
   "source": [
    "## \"My Jupyter Notebook on IBM Watson Studio\""
   ]
  },
  {
   "cell_type": "markdown",
   "metadata": {},
   "source": [
    "### **Faruk Iskin** \n",
    "### **Geotechnical Engineer**"
   ]
  },
  {
   "cell_type": "markdown",
   "metadata": {},
   "source": [
    "### *I have an interest for the data science to automatize many challenging tasks in my field, which have been dealt with by means of obsolete methods.*"
   ]
  },
  {
   "cell_type": "markdown",
   "metadata": {},
   "source": [
    "#### The following returns the sum of 1 and 2"
   ]
  },
  {
   "cell_type": "code",
   "execution_count": 1,
   "metadata": {},
   "outputs": [
    {
     "data": {
      "text/plain": [
       "3"
      ]
     },
     "execution_count": 1,
     "metadata": {},
     "output_type": "execute_result"
    }
   ],
   "source": [
    "1+2"
   ]
  },
  {
   "cell_type": "markdown",
   "metadata": {},
   "source": [
    ">*Links to challenging projects:*\n",
    "\n",
    "<ol>\n",
    "\n",
    "<li>In TR</li> \n",
    "    \n",
    "__[Eurasia Tunnel](https://www.aa.com.tr/uploads/TempUserFiles/eurasia-tunnel.jpg)__\n",
    "    \n",
    "<li>In AT</li> \n",
    "    \n",
    "__[Brenner Base Tunnel](https://cdn.ca.emap.com/wp-content/uploads/sites/9/2021/05/21-04-28_Herrenknecht-Press-Release_Brenner-Base-Tunnel_Photo-1-1024x683.jpg)__\n",
    "    \n",
    "<li>In GB</li> \n",
    "    \n",
    "__[HS2](https://cdn.gillespies.co.uk/uploads/projects/_ogImage/HS2-Engineering-Support-Arup-train-2000x1125.jpg?v=1628090843)__  \n",
    ">*Thank you for your time*  "
   ]
  },
  {
   "cell_type": "code",
   "execution_count": null,
   "metadata": {},
   "outputs": [],
   "source": []
  }
 ],
 "metadata": {
  "kernelspec": {
   "display_name": "Python 3",
   "language": "python",
   "name": "python3"
  },
  "language_info": {
   "codemirror_mode": {
    "name": "ipython",
    "version": 3
   },
   "file_extension": ".py",
   "mimetype": "text/x-python",
   "name": "python",
   "nbconvert_exporter": "python",
   "pygments_lexer": "ipython3",
   "version": "3.8.8"
  }
 },
 "nbformat": 4,
 "nbformat_minor": 4
}
